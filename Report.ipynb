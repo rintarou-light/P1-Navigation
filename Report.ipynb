{
 "cells": [
  {
   "cell_type": "markdown",
   "metadata": {},
   "source": [
    "# Double DQN implementation for Unity banana navigator\n",
    "\n",
    "---\n",
    "\n",
    "We begin by importing some necessary packages. \n",
    "- [Unity ML-Agents](https://github.com/Unity-Technologies/ml-agents/blob/master/docs/Installation.md) \n",
    "- [NumPy](http://www.numpy.org/)\n",
    "- [PyTorch](https://pytorch.org/)\n",
    "- [matplotlib](https://matplotlib.org/)"
   ]
  },
  {
   "cell_type": "code",
   "execution_count": 1,
   "metadata": {},
   "outputs": [],
   "source": [
    "from unityagents import UnityEnvironment\n",
    "import numpy as np\n",
    "import torch\n",
    "from collections import deque\n",
    "from agent import Agent\n",
    "import matplotlib.pyplot as plt\n",
    "\n",
    "# This is optional.\n",
    "%load_ext autoreload\n",
    "%autoreload 2\n",
    "%matplotlib inline"
   ]
  },
  {
   "cell_type": "markdown",
   "metadata": {},
   "source": [
    "### Check the python and module version."
   ]
  },
  {
   "cell_type": "code",
   "execution_count": 2,
   "metadata": {},
   "outputs": [
    {
     "name": "stderr",
     "output_type": "stream",
     "text": [
      "Python 3.6.6 :: Anaconda, Inc.\n"
     ]
    },
    {
     "name": "stdout",
     "output_type": "stream",
     "text": [
      "torch==0.4.1\n",
      "numpy==1.14.5\n",
      "matplotlib==2.2.3\n"
     ]
    }
   ],
   "source": [
    "\"\"\"\n",
    "Python=3.6\n",
    "torch=0.4.1\n",
    "numpy=1.14.5\n",
    "matplotlib=2.2.3\n",
    "\"\"\"\n",
    "!python --version\n",
    "!pip freeze | grep torch\n",
    "!pip freeze | grep numpy\n",
    "!pip freeze | grep matplotlib"
   ]
  },
  {
   "cell_type": "markdown",
   "metadata": {},
   "source": [
    "### Load the environment"
   ]
  },
  {
   "cell_type": "code",
   "execution_count": 3,
   "metadata": {},
   "outputs": [
    {
     "name": "stderr",
     "output_type": "stream",
     "text": [
      "INFO:unityagents:\n",
      "'Academy' started successfully!\n",
      "Unity Academy name: Academy\n",
      "        Number of Brains: 1\n",
      "        Number of External Brains : 1\n",
      "        Lesson number : 0\n",
      "        Reset Parameters :\n",
      "\t\t\n",
      "Unity brain name: BananaBrain\n",
      "        Number of Visual Observations (per agent): 0\n",
      "        Vector Observation space type: continuous\n",
      "        Vector Observation space size (per agent): 37\n",
      "        Number of stacked Vector Observation: 1\n",
      "        Vector Action space type: discrete\n",
      "        Vector Action space size (per agent): 4\n",
      "        Vector Action descriptions: , , , \n"
     ]
    }
   ],
   "source": [
    "# change the path depending on your machine.\n",
    "file_path = \"Banana_Windows_x86_64/Banana.exe\"\n",
    "env = UnityEnvironment(file_name=file_path, seed=123)\n",
    "\n",
    "# get the default brain\n",
    "brain_name = env.brain_names[0]\n",
    "env_info = env.reset(train_mode=True)[brain_name]\n",
    "brain = env.brains[brain_name]\n",
    "n_action = brain.vector_action_space_size\n",
    "state = env_info.vector_observations[0]\n",
    "dim_state = len(state)"
   ]
  },
  {
   "cell_type": "markdown",
   "metadata": {},
   "source": [
    "### Training Double DQN agent"
   ]
  },
  {
   "cell_type": "markdown",
   "metadata": {},
   "source": [
    "We will train our agent using double Deep Q-Network algorithm. The DQN algorithm is based on Q-learning and use deep neural network architecture for Q-value function approximation. The agent you will import have following architecture:\n",
    "- __Input layer__ : 37 dimension, i.e, dimension size of state space\n",
    "- __Fully connected layer__ followed __ReLU__ activation function : 128 nodes\n",
    "- __Fully connected layer__ followed __ReLU__ activation function : 128 nodes\n",
    "- __Output layer__ : 4 dimension, i.e, dimension size of action space\n"
   ]
  },
  {
   "cell_type": "markdown",
   "metadata": {},
   "source": [
    "In addition, double DQN algorithm have two characteristics, __target network__ and __experience replay__.\n",
    "\n",
    "- __Target network__ : There are two value functions using neural network in DQN agent. The two value functions have same architecture, but have difference weights. One set of weights is used to determine the greedy policy and the other to determine its value. Target value is written as:<br><br>$Y^{DoubleDQN} = R_{t+1} + \\gamma Q(s_{t+1}, \\underset{a}{\\operatorname{argmax}} Q(s_{t+1},a; \\theta_{t}); \\theta^{-}_{t})$<br>\n",
    "where:<br><br>\n",
    "$R_{t+1}$ : rewards<br>\n",
    "$\\gamma$ : discount factor<br>\n",
    "$s_{t+1}$ : next state<br>\n",
    "$a$ : action<br>\n",
    "$\\theta_{t}$ : the weights of online network for determination of the value<br>\n",
    "$\\theta^{-}_{t}$ : the weights of target network for evaluation of the current greedy policy<br><br>\n",
    "The idea  is to reduce overestimations by decomposing the max operation in the target into action selection and action evaluation.\n",
    "\n",
    "- __Experience replay__ : For the experience replay (Lin, 1992), observed transitions are stored for some time and sampled uniformly from this memory bank to update the network. By using experience replay, we can prevent harmful correlations of transitions, and experience replay allows us to learn more from individual tuples multiple times, recall rare occurrences, and in general make better use of our experience."
   ]
  },
  {
   "cell_type": "code",
   "execution_count": 4,
   "metadata": {},
   "outputs": [],
   "source": [
    "def dqn(n_episodes=10, max_t=100, eps_start=1.0, eps_end=1e-2, \\\n",
    "        eps_decay=0.995, print_every=100, seed=77):\n",
    "    \"\"\"\n",
    "    \"\"\"\n",
    "    scores = []\n",
    "    scores_window = deque(maxlen=100)\n",
    "    eps = eps_start\n",
    "    for i_episode in range(1, n_episodes+1):\n",
    "        env_info = env.reset(train_mode=True)[brain_name]\n",
    "        state = env_info.vector_observations[0]\n",
    "        score = 0\n",
    "        for t in range(max_t):\n",
    "            # select an action and extract state from env\n",
    "            action = agent.act(state, eps)\n",
    "            env_info = env.step(vector_action=int(action))[brain_name]\n",
    "            next_state = env_info.vector_observations[0]\n",
    "            reward = env_info.rewards[0]\n",
    "            done = env_info.local_done[0]\n",
    "            # take the action\n",
    "            agent.step(state, action, reward, next_state, done)\n",
    "            # add reward to score\n",
    "            score += reward\n",
    "            # save state\n",
    "            state = next_state\n",
    "            if done:\n",
    "                break\n",
    "        # save results\n",
    "        scores.append(score)\n",
    "        scores_window.append(score)\n",
    "        eps = max(eps_end, eps_decay*eps) # decrease epsilon\n",
    "        \n",
    "        print(f'\\rEpisode {i_episode}\\tAverage Score: {np.mean(scores_window):.2f}', end=\"\")\n",
    "        if i_episode % print_every == 0:\n",
    "            print(f'\\rEpisode {i_episode}\\tAverage Score: {np.mean(scores_window):.2f}')\n",
    "        if np.mean(scores_window) >= 100.0:\n",
    "            print(f'\\nEnvironment solved in {i_episode-100:d} episodes!\\tAverage Score: {np.mean(scores_window):.2f}')\n",
    "            torch.save(agent.qnetwork_online.state_dict(), 'checkpoint.pth')\n",
    "            break\n",
    "        \n",
    "    return scores"
   ]
  },
  {
   "cell_type": "markdown",
   "metadata": {},
   "source": [
    "start training."
   ]
  },
  {
   "cell_type": "code",
   "execution_count": 5,
   "metadata": {},
   "outputs": [
    {
     "name": "stdout",
     "output_type": "stream",
     "text": [
      "Episode 100\tAverage Score: 0.30\n",
      "Episode 200\tAverage Score: 3.68\n",
      "Episode 300\tAverage Score: 7.28\n",
      "Episode 400\tAverage Score: 10.78\n",
      "Episode 500\tAverage Score: 13.32\n",
      "Episode 600\tAverage Score: 13.34\n",
      "Episode 700\tAverage Score: 12.93\n",
      "Episode 800\tAverage Score: 14.46\n",
      "Episode 900\tAverage Score: 14.21\n",
      "Episode 1000\tAverage Score: 13.73\n"
     ]
    },
    {
     "data": {
      "image/png": "[encoded data removed]",
      "text/plain": [
       "<Figure size 432x288 with 1 Axes>"
      ]
     },
     "metadata": {},
     "output_type": "display_data"
    }
   ],
   "source": [
    "random_seed = 123\n",
    "agent = Agent(dim_state=dim_state, n_action=n_action, seed=random_seed)\n",
    "scores = dqn(n_episodes=1000, max_t=1000, eps_start=1.0, eps_end=1e-2, eps_decay=0.995, \\\n",
    "            print_every=100, seed=random_seed)\n",
    "\n",
    "# plot the scores\n",
    "fig = plt.figure()\n",
    "ax = fig.add_subplot(111)\n",
    "plt.plot(np.arange(len(scores)), scores)\n",
    "plt.ylabel('Score')\n",
    "plt.xlabel('Episode #')\n",
    "plt.show()"
   ]
  },
  {
   "cell_type": "code",
   "execution_count": 7,
   "metadata": {},
   "outputs": [],
   "source": [
    "env.close()"
   ]
  }
 ],
 "metadata": {
  "kernelspec": {
   "display_name": "RL",
   "language": "python",
   "name": "rl"
  },
  "language_info": {
   "codemirror_mode": {
    "name": "ipython",
    "version": 3
   },
   "file_extension": ".py",
   "mimetype": "text/x-python",
   "name": "python",
   "nbconvert_exporter": "python",
   "pygments_lexer": "ipython3",
   "version": "3.6.6"
  }
 },
 "nbformat": 4,
 "nbformat_minor": 2
}
